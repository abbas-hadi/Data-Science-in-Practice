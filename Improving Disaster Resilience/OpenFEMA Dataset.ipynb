{
 "cells": [
  {
   "cell_type": "code",
   "execution_count": 8,
   "id": "9599629b",
   "metadata": {
    "scrolled": false
   },
   "outputs": [
    {
     "data": {
      "text/html": [
       "\n",
       "        <iframe\n",
       "            width=\"100%\"\n",
       "            height=\"650\"\n",
       "            src=\"http://127.0.0.1:8050/\"\n",
       "            frameborder=\"0\"\n",
       "            allowfullscreen\n",
       "            \n",
       "        ></iframe>\n",
       "        "
      ],
      "text/plain": [
       "<IPython.lib.display.IFrame at 0x7fb41c5fb220>"
      ]
     },
     "metadata": {},
     "output_type": "display_data"
    }
   ],
   "source": [
    "# Import necessary libraries\n",
    "import pandas as pd\n",
    "import dash\n",
    "from dash import dcc, html\n",
    "from dash.dependencies import Input, Output\n",
    "import plotly.express as px\n",
    "\n",
    "api_url = \"https://www.fema.gov/api/open/v1/IndividualsAndHouseholdsProgramValidRegistrations\"\n",
    "response = requests.get(api_url)\n",
    "data = response.json()\n",
    "df = pd.DataFrame(data['IndividualsAndHouseholdsProgramValidRegistrations'])\n",
    "\n",
    "app = dash.Dash(__name__)\n",
    "\n",
    "app.layout = html.Div([\n",
    "    html.H1(\"County Resilience to Disasters\"),\n",
    "    html.Label(\"Select Variable to Visualize:\"),\n",
    "    dcc.Dropdown(\n",
    "        id='variable-dropdown',\n",
    "        options=[\n",
    "            {'label': col, 'value': col} for col in df.columns\n",
    "        ],\n",
    "        value='homeOwnersInsurance'  \n",
    "    ),\n",
    "    dcc.Graph(id='resilience-graph')\n",
    "])\n",
    "\n",
    "@app.callback(\n",
    "    Output('resilience-graph', 'figure'),\n",
    "    [Input('variable-dropdown', 'value')]\n",
    ")\n",
    "def update_graph(selected_variable):\n",
    "    fig = px.bar(df, x='county', y=selected_variable, title=f'Resilience based on {selected_variable}')\n",
    "    return fig\n",
    "\n",
    "if __name__ == '__main__':\n",
    "    app.run_server(debug=True)\n",
    "\n",
    "\n",
    "\n"
   ]
  },
  {
   "cell_type": "code",
   "execution_count": 10,
   "id": "d13689d8",
   "metadata": {},
   "outputs": [
    {
     "name": "stdout",
     "output_type": "stream",
     "text": [
      "List of Unique Counties:\n",
      "['Karnes (County)', 'Brazoria (County)', 'McMullen (County)', 'Victoria (County)', 'Galveston (County)', 'San Patricio (County)', 'DeWitt (County)', 'Calhoun (County)', 'Frio (County)', 'Bee (County)', 'Refugio (County)', 'Zavala (County)', 'Goliad (County)', 'Jackson (County)', 'Live Oak (County)', 'Matagorda (County)', 'Aransas (County)', 'Atascosa (County)']\n"
     ]
    }
   ],
   "source": [
    "import requests\n",
    "\n",
    "# API endpoint URL\n",
    "api_url = \"https://www.fema.gov/api/open/v1/IndividualsAndHouseholdsProgramValidRegistrations\"\n",
    "\n",
    "response = requests.get(api_url)\n",
    "\n",
    "if response.status_code == 200:\n",
    "    data = response.json()\n",
    "    \n",
    "    unique_counties = set(entry['county'] for entry in data['IndividualsAndHouseholdsProgramValidRegistrations'])\n",
    "    \n",
    "    # Print the list of unique counties (first 200)\n",
    "    print(\"List of Unique Counties:\")\n",
    "    print(list(unique_counties)[:200])\n",
    "else:\n",
    "    \n",
    "    print(\"Error:\", response.status_code)\n",
    "\n",
    "\n"
   ]
  }
 ],
 "metadata": {
  "kernelspec": {
   "display_name": "Python 3 (ipykernel)",
   "language": "python",
   "name": "python3"
  },
  "language_info": {
   "codemirror_mode": {
    "name": "ipython",
    "version": 3
   },
   "file_extension": ".py",
   "mimetype": "text/x-python",
   "name": "python",
   "nbconvert_exporter": "python",
   "pygments_lexer": "ipython3",
   "version": "3.10.9"
  }
 },
 "nbformat": 4,
 "nbformat_minor": 5
}
