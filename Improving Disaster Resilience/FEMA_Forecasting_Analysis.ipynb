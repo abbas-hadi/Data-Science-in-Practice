{
 "cells": [
  {
   "cell_type": "markdown",
   "id": "c2400d85",
   "metadata": {},
   "source": [
    "# Project: Improving Disaster Resilience\n",
    "\n",
    "## FEMA Disaster Forecast Analysis - Working Notebook\n",
    "\n",
    "### \n",
    "### Data Science in Practice - Spring, 2023\n",
    "\n",
    "### Data Used: DisastersDeclarationSummaries.csv \n",
    "\n",
    "Andrew Sommers\n",
    "\n",
    "### Purpose\n",
    "\n",
    "- Use ARIMA to forecast FEMA disaster events\n",
    "\n",
    "\n",
    "#### History 🗓️\n",
    "\n",
    "Date | Person | Details\n",
    "---- | ------ | -------\n",
    "04/02/2023| Andrew Sommers| Create initial notebook\n",
    "04/28/2023| Andrew Sommers| Allow selection of the event ceategory for ARIMA forcasting\n",
    "\n",
    "\n"
   ]
  },
  {
   "cell_type": "markdown",
   "id": "8d07b82a",
   "metadata": {},
   "source": [
    "### Importing Libraries\n",
    "\n",
    "We start by importing the libraries required for this notebook, adding in the ACS API key, and creating the function `json_to_dataframe` which is the function used in all our notebooks that make a call to the API. This function converts the API response into a dataframe and a readable format."
   ]
  },
  {
   "cell_type": "code",
   "execution_count": 1,
   "id": "8330ab3f",
   "metadata": {},
   "outputs": [],
   "source": [
    "#import requests # request http, api\n",
    "import pandas as pd # tabluar data\n",
    "#from functools import reduce\n",
    "import numpy as np\n",
    "import os\n",
    "\n",
    "import matplotlib.pyplot as plt\n",
    "plt.style.use('default')\n",
    "%matplotlib inline\n",
    "\n",
    "# ARIMA\n",
    "# https://towardsdatascience.com/introduction-to-arima-for-time-series-forecasting-ee0bc285807a\n",
    "# https://www.geeksforgeeks.org/python-arima-model-for-time-series-forecasting/\n",
    "from statsmodels.tsa.arima.model import ARIMA\n",
    "from statsmodels.tsa.stattools import adfuller\n",
    "from statsmodels.tsa.seasonal import seasonal_decompose\n",
    "from statsmodels.graphics.tsaplots import plot_predict\n",
    "\n",
    "import warnings\n",
    "warnings.filterwarnings('ignore')\n",
    "\n",
    "pd.options.display.max_columns = None # show all columns in display\n",
    "pd.options.display.max_rows = None # show all columns in display"
   ]
  },
  {
   "cell_type": "code",
   "execution_count": 14,
   "id": "0cd52030",
   "metadata": {},
   "outputs": [],
   "source": [
    "# change the notebooks working directory to the Disaster Resilience Code Directory - change this for your local environment\n",
    "# set the working directory where the 'Data' folder is located.  \n",
    "# this notebook assumes data files are located in a 'Data' folder in the following path:\n",
    "os.chdir('C:\\\\Users\\\\andre\\\\OneDrive\\\\Documents\\\\IndianaUniversity\\\\D592\\\\Project_Disaster_Resilience\\\\Code\\\\Data')"
   ]
  },
  {
   "cell_type": "code",
   "execution_count": 15,
   "id": "8d7e692e",
   "metadata": {},
   "outputs": [
    {
     "data": {
      "text/plain": [
       "60980"
      ]
     },
     "execution_count": 15,
     "metadata": {},
     "output_type": "execute_result"
    }
   ],
   "source": [
    "# load the FEMA Disasters DeclarationsHistory file \n",
    "# loading the disaster summry file suplied by Sahil\n",
    "FEMA_History_County = pd.read_csv(f'FEMA_POP_GDP_ECO_METRO.csv')\n",
    "len(FEMA_History_County)"
   ]
  },
  {
   "cell_type": "code",
   "execution_count": 16,
   "id": "b92540d0",
   "metadata": {},
   "outputs": [
    {
     "data": {
      "text/plain": [
       "674"
      ]
     },
     "execution_count": 16,
     "metadata": {},
     "output_type": "execute_result"
    }
   ],
   "source": [
    "# Remove duplicates of disasters by 'declaration date'\n",
    "# Sort the dataframe by year\n",
    "FEMA_History_Unique = FEMA_History_County.drop_duplicates(subset = ['declarationDate'], keep = False)\n",
    "FEMA_History_Unique = FEMA_History_Unique.sort_values(by=['fyDeclared'])\n",
    "len(FEMA_History_Unique)\n",
    "#FEMA_History_Unique.head(10)"
   ]
  },
  {
   "cell_type": "code",
   "execution_count": 17,
   "id": "492f6ebf",
   "metadata": {},
   "outputs": [
    {
     "data": {
      "text/plain": [
       "663"
      ]
     },
     "execution_count": 17,
     "metadata": {},
     "output_type": "execute_result"
    }
   ],
   "source": [
    "# this cell will colsidate FEMA Incident Types to few categories.\n",
    "# related types of Incidents are consolidated to an exist FEMA Incident Type\n",
    "# the consolidation rules can be changed as necessary\n",
    "# some Incident Types are dropped due to be rare and highly localized\n",
    "# \n",
    "#  If the analysis will be run on the provided FEMA Incident Types, simply bypass this cell\n",
    "#\n",
    "target_mapping = {\n",
    "    'Hurricane': 'Marine and Tropical Storm Events',\n",
    "    'Coastal Storm': 'Marine and Tropical Storm Events',\n",
    "    'Tropical Storm': 'Marine and Tropical Storm Events',\n",
    "    'Typhoon': 'Marine and Tropical Storm Events',\n",
    "    'Earthquake': 'Earthquake',\n",
    "    'Biological': 'Biological',\n",
    "    'Flood': 'Flood and Related Events',\n",
    "    'Drought': 'Drought',\n",
    "    'Fire': 'Fire and Related Events',\n",
    "    'Winter Storm': 'Winter Storms and Related Events',\n",
    "    'Freezing': 'Winter Storms and Related Events',\n",
    "    'Severe Ice Storm': 'Winter Storms and Related Events',\n",
    "    'Snowstorm': 'Winter Storms and Related Events',\n",
    "    'Severe Storm': 'Severe Storms and Related Events',\n",
    "    'Tornado': 'Severe Storms and Related Events',\n",
    "    'Mud/Landslide': 'Severe Storms and Related Events',\n",
    "    'Dam/Levee Break': 'Severe Storms and Related Events',\n",
    "    'Human Cause': 'Human Caused Events',\n",
    "    'Toxic Substances': 'Human Caused Events',\n",
    "    'Fishing Losses': 'Human Caused Events',\n",
    "    'Chemical': 'Human Caused Events',\n",
    "    'Other': 'Other Events - Consolidated',\n",
    "    'Terrorist': 'Other Events - Consolidated',\n",
    "    'Volcanic Eruption': 'Other Events - Consolidated',\n",
    "    'Tsunami': 'Other Events - Consolidated'\n",
    "}\n",
    "FEMA_History_Unique[\"incidentType\"] = FEMA_History_Unique[\"incidentType\"].map(lambda x: target_mapping[x])\n",
    "# drop incident types classified as 'Other':  unique, non-reocurring or localized incidents\n",
    "FEMA_History_Unique = FEMA_History_Unique[FEMA_History_Unique['incidentType'] != 'Other Events - Consolidated']\n",
    "len(FEMA_History_Unique)\n",
    "#FEMA_History_Unique.head(10)"
   ]
  },
  {
   "cell_type": "code",
   "execution_count": 13,
   "id": "4fb7fd42",
   "metadata": {},
   "outputs": [
    {
     "data": {
      "text/html": [
       "<div>\n",
       "<style scoped>\n",
       "    .dataframe tbody tr th:only-of-type {\n",
       "        vertical-align: middle;\n",
       "    }\n",
       "\n",
       "    .dataframe tbody tr th {\n",
       "        vertical-align: top;\n",
       "    }\n",
       "\n",
       "    .dataframe thead th {\n",
       "        text-align: right;\n",
       "    }\n",
       "</style>\n",
       "<table border=\"1\" class=\"dataframe\">\n",
       "  <thead>\n",
       "    <tr style=\"text-align: right;\">\n",
       "      <th>incidentType</th>\n",
       "      <th>Drought</th>\n",
       "      <th>Earthquake</th>\n",
       "      <th>Fire and Related Events</th>\n",
       "      <th>Flood and Related Events</th>\n",
       "      <th>Human Caused Events</th>\n",
       "      <th>Marine and Tropical Storm Events</th>\n",
       "      <th>Severe Storms and Related Events</th>\n",
       "      <th>Winter Storms and Related Events</th>\n",
       "    </tr>\n",
       "    <tr>\n",
       "      <th>Years</th>\n",
       "      <th></th>\n",
       "      <th></th>\n",
       "      <th></th>\n",
       "      <th></th>\n",
       "      <th></th>\n",
       "      <th></th>\n",
       "      <th></th>\n",
       "      <th></th>\n",
       "    </tr>\n",
       "  </thead>\n",
       "  <tbody>\n",
       "    <tr>\n",
       "      <th>2019</th>\n",
       "      <td>0</td>\n",
       "      <td>0</td>\n",
       "      <td>11</td>\n",
       "      <td>1</td>\n",
       "      <td>0</td>\n",
       "      <td>1</td>\n",
       "      <td>2</td>\n",
       "      <td>0</td>\n",
       "    </tr>\n",
       "    <tr>\n",
       "      <th>2020</th>\n",
       "      <td>0</td>\n",
       "      <td>0</td>\n",
       "      <td>23</td>\n",
       "      <td>0</td>\n",
       "      <td>0</td>\n",
       "      <td>0</td>\n",
       "      <td>0</td>\n",
       "      <td>0</td>\n",
       "    </tr>\n",
       "    <tr>\n",
       "      <th>2021</th>\n",
       "      <td>0</td>\n",
       "      <td>0</td>\n",
       "      <td>23</td>\n",
       "      <td>1</td>\n",
       "      <td>0</td>\n",
       "      <td>0</td>\n",
       "      <td>0</td>\n",
       "      <td>0</td>\n",
       "    </tr>\n",
       "    <tr>\n",
       "      <th>2022</th>\n",
       "      <td>0</td>\n",
       "      <td>0</td>\n",
       "      <td>21</td>\n",
       "      <td>1</td>\n",
       "      <td>0</td>\n",
       "      <td>1</td>\n",
       "      <td>3</td>\n",
       "      <td>0</td>\n",
       "    </tr>\n",
       "    <tr>\n",
       "      <th>2023</th>\n",
       "      <td>0</td>\n",
       "      <td>0</td>\n",
       "      <td>1</td>\n",
       "      <td>1</td>\n",
       "      <td>0</td>\n",
       "      <td>0</td>\n",
       "      <td>0</td>\n",
       "      <td>0</td>\n",
       "    </tr>\n",
       "  </tbody>\n",
       "</table>\n",
       "</div>"
      ],
      "text/plain": [
       "incidentType  Drought  Earthquake  Fire and Related Events  \\\n",
       "Years                                                        \n",
       "2019                0           0                       11   \n",
       "2020                0           0                       23   \n",
       "2021                0           0                       23   \n",
       "2022                0           0                       21   \n",
       "2023                0           0                        1   \n",
       "\n",
       "incidentType  Flood and Related Events  Human Caused Events  \\\n",
       "Years                                                         \n",
       "2019                                 1                    0   \n",
       "2020                                 0                    0   \n",
       "2021                                 1                    0   \n",
       "2022                                 1                    0   \n",
       "2023                                 1                    0   \n",
       "\n",
       "incidentType  Marine and Tropical Storm Events  \\\n",
       "Years                                            \n",
       "2019                                         1   \n",
       "2020                                         0   \n",
       "2021                                         0   \n",
       "2022                                         1   \n",
       "2023                                         0   \n",
       "\n",
       "incidentType  Severe Storms and Related Events  \\\n",
       "Years                                            \n",
       "2019                                         2   \n",
       "2020                                         0   \n",
       "2021                                         0   \n",
       "2022                                         3   \n",
       "2023                                         0   \n",
       "\n",
       "incidentType  Winter Storms and Related Events  \n",
       "Years                                           \n",
       "2019                                         0  \n",
       "2020                                         0  \n",
       "2021                                         0  \n",
       "2022                                         0  \n",
       "2023                                         0  "
      ]
     },
     "execution_count": 13,
     "metadata": {},
     "output_type": "execute_result"
    }
   ],
   "source": [
    "# use pandas crosstab to generate a new dataframe of counts of disasters per year\n",
    "# creates a simple moving average of the disasters - see the third line of code in this cell\n",
    "dfDisasterCounts = pd.crosstab(FEMA_History_Unique.incidentType,FEMA_History_Unique.fyDeclared).stack().reset_index().rename(columns={0:'Count'})\n",
    "dfDisasterCounts = dfDisasterCounts.sort_values(by=['fyDeclared'])\n",
    "dfDisasterCounts['Count'] = dfDisasterCounts['Count'].fillna(0)\n",
    "#dfDisasterCounts['Years'] = pd.to_datetime(dfDisasterCounts['fyDeclared'], format = '%Y')\n",
    "dfDisasterCounts.rename(columns = {\"fyDeclared\":\"Years\"}, inplace = True)\n",
    "dfDisastersPivot = dfDisasterCounts.pivot(index = 'Years', columns = 'incidentType', values = 'Count')\n",
    "#dfDisastersPivot.index = pd.DatetimeIndex(dfDisastersPivot.index).to_period('Y')\n",
    "dfDisastersPivot.tail(5)"
   ]
  },
  {
   "cell_type": "markdown",
   "id": "e494f81c",
   "metadata": {},
   "source": [
    "### This section applies the ARIMA model to the selected FEMA disaster event category\n",
    "- The parameters for the ARIMA model can be set below\n",
    "- Select the event category to forecast in the next cell"
   ]
  },
  {
   "cell_type": "code",
   "execution_count": 91,
   "id": "0cd4b7f3",
   "metadata": {},
   "outputs": [
    {
     "data": {
      "text/html": [
       "<div>\n",
       "<style scoped>\n",
       "    .dataframe tbody tr th:only-of-type {\n",
       "        vertical-align: middle;\n",
       "    }\n",
       "\n",
       "    .dataframe tbody tr th {\n",
       "        vertical-align: top;\n",
       "    }\n",
       "\n",
       "    .dataframe thead th {\n",
       "        text-align: right;\n",
       "    }\n",
       "</style>\n",
       "<table border=\"1\" class=\"dataframe\">\n",
       "  <thead>\n",
       "    <tr style=\"text-align: right;\">\n",
       "      <th></th>\n",
       "      <th>Count</th>\n",
       "    </tr>\n",
       "    <tr>\n",
       "      <th>Years</th>\n",
       "      <th></th>\n",
       "    </tr>\n",
       "  </thead>\n",
       "  <tbody>\n",
       "    <tr>\n",
       "      <th>2019-01-01</th>\n",
       "      <td>1</td>\n",
       "    </tr>\n",
       "    <tr>\n",
       "      <th>2020-01-01</th>\n",
       "      <td>0</td>\n",
       "    </tr>\n",
       "    <tr>\n",
       "      <th>2021-01-01</th>\n",
       "      <td>0</td>\n",
       "    </tr>\n",
       "    <tr>\n",
       "      <th>2022-01-01</th>\n",
       "      <td>1</td>\n",
       "    </tr>\n",
       "    <tr>\n",
       "      <th>2023-01-01</th>\n",
       "      <td>0</td>\n",
       "    </tr>\n",
       "  </tbody>\n",
       "</table>\n",
       "</div>"
      ],
      "text/plain": [
       "            Count\n",
       "Years            \n",
       "2019-01-01      1\n",
       "2020-01-01      0\n",
       "2021-01-01      0\n",
       "2022-01-01      1\n",
       "2023-01-01      0"
      ]
     },
     "execution_count": 91,
     "metadata": {},
     "output_type": "execute_result"
    }
   ],
   "source": [
    "# select the event category for forecasting\n",
    "specified_event = 'Marine and Tropical Storm Events'\n",
    "#specified_event = 'Severe Storms and Related Events' # specify the event of interest\n",
    "#specified_event = 'Flood and Related Events'\n",
    "#specified_event = 'Fire and Related Events'\n",
    "#specified_event = 'Winter Storms and Related Events'\n",
    "#specified_event = 'Earthquake'\n",
    "#specified_event = 'Drought'\n",
    "#specified_event = 'Human Caused Events'\n",
    "#specified_event = 'Biological'\n",
    "\n",
    "dfSpecificDisasters = pd.DataFrame(dfDisastersPivot[specified_event])\n",
    "dfSpecificDisasters.rename(columns = {specified_event:\"Count\"}, inplace = True)\n",
    "dfSpecificDisasters.index = pd.to_datetime(dfSpecificDisasters.index, format = '%Y')\n",
    "dfSpecificDisasters.sort_index(inplace = True)\n",
    "dfSpecificDisasters.tail(5)"
   ]
  },
  {
   "cell_type": "code",
   "execution_count": 92,
   "id": "8e35fe04",
   "metadata": {},
   "outputs": [
    {
     "name": "stdout",
     "output_type": "stream",
     "text": [
      "ADF Statistic: -5.541667497083328\n",
      "p-value: 1.6962097304977076e-06\n",
      "Critical Values:\n",
      "\t1%: -3.55770911573439\n",
      "\t5%: -2.9167703434435808\n",
      "\t10%: -2.59622219478738\n"
     ]
    }
   ],
   "source": [
    "# Use the Augmented Dickey-Fuller statistic to test for data stability\n",
    "# if the ADF statistic is within the critical value range, the data is sufficiently stable. \n",
    "result = adfuller(dfSpecificDisasters['Count'])\n",
    "print('ADF Statistic: {}'.format(result[0]))\n",
    "print('p-value: {}'.format(result[1]))\n",
    "print('Critical Values:')\n",
    "for key, value in result[4].items():\n",
    "    print('\\t{}: {}'.format(key, value))"
   ]
  },
  {
   "cell_type": "code",
   "execution_count": 93,
   "id": "c531fcfd",
   "metadata": {},
   "outputs": [
    {
     "name": "stdout",
     "output_type": "stream",
     "text": [
      "                               SARIMAX Results                                \n",
      "==============================================================================\n",
      "Dep. Variable:                  Count   No. Observations:                   56\n",
      "Model:                 ARIMA(1, 0, 7)   Log Likelihood                 -62.843\n",
      "Date:                Fri, 28 Apr 2023   AIC                            145.685\n",
      "Time:                        17:21:13   BIC                            165.939\n",
      "Sample:                             0   HQIC                           153.537\n",
      "                                 - 56                                         \n",
      "Covariance Type:                  opg                                         \n",
      "==============================================================================\n",
      "                 coef    std err          z      P>|z|      [0.025      0.975]\n",
      "------------------------------------------------------------------------------\n",
      "const          0.5557      0.218      2.543      0.011       0.127       0.984\n",
      "ar.L1          0.0758      0.494      0.153      0.878      -0.892       1.044\n",
      "ma.L1          0.1708      8.896      0.019      0.985     -17.265      17.606\n",
      "ma.L2         -0.1969      3.265     -0.060      0.952      -6.596       6.203\n",
      "ma.L3          0.0850      3.554      0.024      0.981      -6.881       7.051\n",
      "ma.L4          0.7453      8.326      0.090      0.929     -15.573      17.064\n",
      "ma.L5         -0.0078      2.324     -0.003      0.997      -4.563       4.547\n",
      "ma.L6          0.0384      3.830      0.010      0.992      -7.469       7.546\n",
      "ma.L7         -0.3776      4.211     -0.090      0.929      -8.631       7.876\n",
      "sigma2         0.4658      5.113      0.091      0.927      -9.556      10.488\n",
      "===================================================================================\n",
      "Ljung-Box (L1) (Q):                   0.00   Jarque-Bera (JB):                18.21\n",
      "Prob(Q):                              0.97   Prob(JB):                         0.00\n",
      "Heteroskedasticity (H):               1.73   Skew:                             1.11\n",
      "Prob(H) (two-sided):                  0.24   Kurtosis:                         4.69\n",
      "===================================================================================\n",
      "\n",
      "Warnings:\n",
      "[1] Covariance matrix calculated using the outer product of gradients (complex-step).\n"
     ]
    }
   ],
   "source": [
    "# ARIMA model\n",
    "# https://www.justintodata.com/arima-models-in-python-time-series-prediction/\n",
    "# set parameters for p, d, q in the next line of code\n",
    "model = ARIMA(dfSpecificDisasters, order = (1,0,7))\n",
    "results = model.fit()\n",
    "forecast = results.forecast(steps=10)\n",
    "print(results.summary())"
   ]
  },
  {
   "cell_type": "code",
   "execution_count": 94,
   "id": "06c7824b",
   "metadata": {},
   "outputs": [],
   "source": [
    "dfForecast = pd.DataFrame(results.fittedvalues)\n",
    "dfForecast.rename(columns = {0: 'Count'}, inplace = True)\n",
    "#\n",
    "year_range = [2024, 2025, 2026, 2027, 2028]\n",
    "df1 = pd.DataFrame(year_range)\n",
    "df1.rename(columns = {0:\"Years\"}, inplace = True)\n",
    "df1 = pd.to_datetime(df1['Years'], format = '%Y')  \n",
    "df1= pd.DataFrame(df1)\n",
    "#\n",
    "df2 = pd.DataFrame(results.forecast(5)) # generates forecasted values from the model for number of periods set in the parameter\n",
    "df2 = pd.DataFrame(df2['predicted_mean'])\n",
    "df2.rename(columns = {\"predicted_mean\":\"Count\"}, inplace = True)\n",
    "df2.index = np.arange(0, len(df2), +1)\n",
    "#\n",
    "df1 = df1.join(df2)\n",
    "df1.set_index(\"Years\", inplace = True)\n",
    "dfForecast = pd.concat([dfForecast, df1])"
   ]
  },
  {
   "cell_type": "code",
   "execution_count": 95,
   "id": "780c465e",
   "metadata": {},
   "outputs": [
    {
     "data": {
      "text/plain": [
       "<matplotlib.legend.Legend at 0x19f2e389340>"
      ]
     },
     "execution_count": 95,
     "metadata": {},
     "output_type": "execute_result"
    },
    {
     "data": {
      "image/png": "[encoded data removed]",
      "text/plain": [
       "<Figure size 1000x600 with 1 Axes>"
      ]
     },
     "metadata": {},
     "output_type": "display_data"
    }
   ],
   "source": [
    "# plot the ARIMA forecasted data for the specified event\n",
    "plt.figure(figsize=(10,6))\n",
    "plt.plot(dfSpecificDisasters, color='blue', label = 'Actual')\n",
    "plt.plot(dfForecast, color='red', label = 'Forecast')\n",
    "plt.title(\"FEMA: Annual Count - \" + specified_event)\n",
    "plt.xlabel(\"Years\")\n",
    "plt.ylabel(\"Count\")\n",
    "plt.legend() \n",
    " "
   ]
  },
  {
   "cell_type": "code",
   "execution_count": null,
   "id": "dadd3209",
   "metadata": {},
   "outputs": [],
   "source": []
  }
 ],
 "metadata": {
  "kernelspec": {
   "display_name": "Python 3 (ipykernel)",
   "language": "python",
   "name": "python3"
  },
  "language_info": {
   "codemirror_mode": {
    "name": "ipython",
    "version": 3
   },
   "file_extension": ".py",
   "mimetype": "text/x-python",
   "name": "python",
   "nbconvert_exporter": "python",
   "pygments_lexer": "ipython3",
   "version": "3.9.13"
  }
 },
 "nbformat": 4,
 "nbformat_minor": 5
}
