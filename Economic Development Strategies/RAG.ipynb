{
 "cells": [
  {
   "cell_type": "code",
   "execution_count": 26,
   "id": "4cb4f2fe",
   "metadata": {},
   "outputs": [],
   "source": [
    "import os\n",
    "os.environ[\"OPENAI_API_KEY\"] = \"\""
   ]
  },
  {
   "cell_type": "code",
   "execution_count": 27,
   "id": "4f0493b4",
   "metadata": {},
   "outputs": [],
   "source": [
    "from langchain.vectorstores import Chroma\n",
    "from langchain.embeddings import OpenAIEmbeddings\n",
    "from langchain.text_splitter import RecursiveCharacterTextSplitter\n",
    "from langchain.llms import OpenAI\n",
    "from langchain.chains import RetrievalQA\n",
    "from langchain.document_loaders import DirectoryLoader\n",
    "from langchain.document_loaders import PyPDFLoader"
   ]
  },
  {
   "cell_type": "code",
   "execution_count": null,
   "id": "b5747151",
   "metadata": {},
   "outputs": [],
   "source": []
  },
  {
   "cell_type": "code",
   "execution_count": 28,
   "id": "bc8be4db",
   "metadata": {},
   "outputs": [],
   "source": [
    "# Load the pdf files to the loader\n",
    "\n",
    "loader = DirectoryLoader(\"C:/DS/FA23 DATA SCIENCE IN PRACTICE/James A. Glazier\",\n",
    "                         glob=\"./*.pdf\",\n",
    "                         loader_cls=PyPDFLoader\n",
    ")\n",
    "\n",
    "Documents = loader.load()"
   ]
  },
  {
   "cell_type": "code",
   "execution_count": 43,
   "id": "6ee7bde6",
   "metadata": {},
   "outputs": [
    {
     "data": {
      "text/plain": [
       "9"
      ]
     },
     "execution_count": 43,
     "metadata": {},
     "output_type": "execute_result"
    }
   ],
   "source": [
    "len(Documents)"
   ]
  },
  {
   "cell_type": "code",
   "execution_count": null,
   "id": "d52f81dd",
   "metadata": {},
   "outputs": [],
   "source": []
  },
  {
   "cell_type": "code",
   "execution_count": 30,
   "id": "f2d4ef2a",
   "metadata": {},
   "outputs": [],
   "source": [
    "# split it\n",
    "\n",
    "text_splitter  = RecursiveCharacterTextSplitter(chunk_size = 1000, chunk_overlap=200)\n",
    "texts = text_splitter.split_documents(documents=Documents)\n"
   ]
  },
  {
   "cell_type": "code",
   "execution_count": 31,
   "id": "b6533b75",
   "metadata": {},
   "outputs": [
    {
     "data": {
      "text/plain": [
       "50"
      ]
     },
     "execution_count": 31,
     "metadata": {},
     "output_type": "execute_result"
    }
   ],
   "source": [
    "len(texts)"
   ]
  },
  {
   "cell_type": "code",
   "execution_count": 32,
   "id": "56e27d24",
   "metadata": {},
   "outputs": [
    {
     "data": {
      "text/plain": [
       "Document(page_content='BIOINFORMATICSVol. 20 no. 7 2004, pages 1129–1137\\nDOI: 10.1093/bioinformatics/bth050\\nCOMPUCELL, a multi-model framework for\\nsimulation of morphogenesis\\nJ. A. Izaguirre1,∗, R. Chaturvedi1, C. Huang1, T. Cickovski1,\\nJ. Cofﬂand1, G. Thomas2, G. Forgacs3, M. Alber4, G. Hentschel5,\\nS. A. Newman6and J. A. Glazier7\\n1Department of Computer Science and Engineering,2Department of Physics,\\nUniversity of Notre Dame, Notre Dame, IN 46556, USA,3Department of Physics and\\nBiology, University of Missouri, Columbia, MO 65211, USA,4Department of\\nMathematics, University of Notre Dame, Notre Dame, IN 46556, USA,5Department of\\nPhysics, Emory University, Atlanta, GA 30332, USA,6Department of Cell Biology and\\nAnatomy, New York Medical College, Valhalla, NY 10595, USA and7Departments of\\nPhysics and Biology and Biocomplexity Institute, Indiana University, Bloomington,\\nIN 47405, USA\\nReceived on March 12, 2003; revised on August 5, 2003; accepted on August 29, 2003\\nAdvance Access publication February 5, 2004\\nABSTRACT\\nMotivation: Compu Cellis a multi-model software framework\\nfor simulation of the development of multicellular organisms\\nknown as morphogenesis. It models the interaction of the gene\\nregulatory network with generic cellular mechanisms, such as\\ncell adhesion, division, haptotaxis and chemotaxis. A combin-\\nation of a state automaton with stochastic local rules and a\\nset of differential equations, including subcellular ordinary dif-\\nferential equations and extracellular reaction–diffusion partial\\ndifferential equations, model gene regulation. This automaton\\nin turn controls the differentiation of the cells, and cell–\\ncell and cell–extracellular matrix interactions that give rise to\\ncell rearrangements and pattern formation, e.g. mesenchymal\\ncondensation. The cellular Potts model, a stochastic model\\nthat accurately reproduces cell movement and rearrangement,\\nmodels cell dynamics. All these models couple in a controllable\\nway, resulting in a powerful and ﬂexible computational envir-\\nonment for morphogenesis, which allows for simultaneous\\nincorporation of growth and spatial patterning.\\nResults: We use C ompu Cellto simulate the formation of the\\nskeletal architecture in the avian limb bud.\\nAvailability: Binaries and source code for Microsoft Windows,\\nLinux and Solaris are available for download from http://\\nsourceforge.net/projects/compucell/\\nContact: compucell@cse.nd.edu\\n1 INTRODUCTION\\nOur long-term goal is to simulate morphogenesis starting from\\nexperimental measurements of gene regulatory networks, cell\\nand extracellular matrix (ECM) properties, and cell–cell and\\n∗To whom correspondence should be addressed.cell–microenvironment interactions. Since genes and their\\nproducts determine the physical properties of tissues during\\nmorphogenesis (Newman and Comper, 1990), useful compu-\\ntational models of multicellular development must describe, in\\naddition to differential regulation of gene activity, cell behavi-\\nors such as release of diffusible factors, adhesion and motility\\n(Marée and Hogeweg, 2001).\\nCompu Cell, provides such a computational framework.\\nIndependent software modules simulate the interaction of the\\ngene regulatory network with cellular mechanisms; including\\ncoupling between biosynthesis and diffusion of morphogens\\n(molecules released by cells that affect the behavior of other\\ncells during development), cell adhesion, haptotaxis (move-\\nment of cells along a gradient of a molecule deposited on a\\nsubstrate) and chemotaxis (movement of cells along a gradi-\\nent of a chemical diffusing in the extracellular environment).\\nThe three main components of C ompu Cellare the cellular\\nPotts model (CPM) that describes cell and ECM behaviors,\\na Reaction–Diffusion (RD) module that describes diffusible\\nmorphogens and a combined ODE/state model of genetic reg-\\nulatory networks and differentiation. We presented an early\\nversion of C ompu Cellin Chaturvedi et al. (2003).\\nThe literature on modeling morphogenesis is extensive.\\nHeld (2002) provides a good summary. Most current models\\nfor morphogenesis are based on purely continuum approaches\\nor discrete cellular automata. C ompu Celluses a combination\\nof the two.\\nDillon and Othmer (1999) presented a purely continuum\\nmodel of early limb development. Here, reaction–advection–\\ndiffusion between two organizing regions produces the\\nshape of the growing limb in two dimensions (2D). The\\nNavier–Stokes equations model growth. Disadvantages of this\\nBioinformatics 20(7) © Oxford University Press 2004; all rights reserved. 1129Downloaded from https://academic.oup.com/bioinformatics/article/20/7/1129/245651 by guest on 02 February 2023', metadata={'source': 'C:\\\\DS\\\\FA23 DATA SCIENCE IN PRACTICE\\\\James A. Glazier\\\\C_scp_ompu_scp_C_scp_ell_scp_a_multi_mod.pdf', 'page': 0})"
      ]
     },
     "execution_count": 32,
     "metadata": {},
     "output_type": "execute_result"
    }
   ],
   "source": [
    "Documents[0]"
   ]
  },
  {
   "cell_type": "code",
   "execution_count": 33,
   "id": "548f3dce",
   "metadata": {},
   "outputs": [],
   "source": [
    "# Embed and store the texts\n",
    "# Supplying a persist_directory will store the embeddings on disk\n",
    "persist_directory = 'db'\n",
    "\n",
    "## here we are using OpenAI embeddings but in future we will swap out to local embeddings\n",
    "embedding = OpenAIEmbeddings()\n",
    "\n",
    "vectordb = Chroma.from_documents(documents=texts, \n",
    "                                 embedding=embedding,\n",
    "                                 persist_directory=persist_directory)"
   ]
  },
  {
   "cell_type": "code",
   "execution_count": null,
   "id": "6d2f3833",
   "metadata": {},
   "outputs": [],
   "source": []
  },
  {
   "cell_type": "code",
   "execution_count": 35,
   "id": "571124ae",
   "metadata": {},
   "outputs": [
    {
     "data": {
      "text/plain": [
       "4"
      ]
     },
     "execution_count": 35,
     "metadata": {},
     "output_type": "execute_result"
    }
   ],
   "source": [
    "retriever = vectordb.as_retriever()\n",
    "docs = retriever.get_relevant_documents(\"How much money did Pando raise?\")\n",
    "len(docs)"
   ]
  },
  {
   "cell_type": "code",
   "execution_count": 36,
   "id": "01c6a082",
   "metadata": {},
   "outputs": [
    {
     "data": {
      "text/plain": [
       "'similarity'"
      ]
     },
     "execution_count": 36,
     "metadata": {},
     "output_type": "execute_result"
    }
   ],
   "source": [
    "retriever = vectordb.as_retriever(search_kwargs={\"k\": 2})\n",
    "retriever.search_type"
   ]
  },
  {
   "cell_type": "code",
   "execution_count": 37,
   "id": "b6d2141b",
   "metadata": {},
   "outputs": [
    {
     "data": {
      "text/plain": [
       "{'k': 2}"
      ]
     },
     "execution_count": 37,
     "metadata": {},
     "output_type": "execute_result"
    }
   ],
   "source": [
    "retriever.search_kwargs"
   ]
  },
  {
   "cell_type": "code",
   "execution_count": 38,
   "id": "193affeb",
   "metadata": {},
   "outputs": [],
   "source": [
    "# create the chain to answer questions \n",
    "qa_chain = RetrievalQA.from_chain_type(llm=OpenAI(), \n",
    "                                  chain_type=\"stuff\", \n",
    "                                  retriever=retriever, \n",
    "                                  return_source_documents=True)"
   ]
  },
  {
   "cell_type": "code",
   "execution_count": 39,
   "id": "db0a1fec",
   "metadata": {},
   "outputs": [],
   "source": [
    "## Cite sources\n",
    "def process_llm_response(llm_response):\n",
    "    print(llm_response['result'])\n",
    "    print('\\n\\nSources:')\n",
    "    for source in llm_response[\"source_documents\"]:\n",
    "        print(source.metadata['source'])"
   ]
  },
  {
   "cell_type": "code",
   "execution_count": 40,
   "id": "ac8803f1",
   "metadata": {},
   "outputs": [
    {
     "name": "stdout",
     "output_type": "stream",
     "text": [
      " CompuCell is a multi-model software framework for simulation of the development of multicellular organisms known as morphogenesis.\n",
      "\n",
      "\n",
      "Sources:\n",
      "C:\\DS\\FA23 DATA SCIENCE IN PRACTICE\\James A. Glazier\\C_scp_ompu_scp_C_scp_ell_scp_a_multi_mod.pdf\n",
      "C:\\DS\\FA23 DATA SCIENCE IN PRACTICE\\James A. Glazier\\C_scp_ompu_scp_C_scp_ell_scp_a_multi_mod.pdf\n"
     ]
    }
   ],
   "source": [
    "# full example using RAG with LLM\n",
    "query = \"What is CompuCell?\"\n",
    "llm_response = qa_chain(query)\n",
    "process_llm_response(llm_response)"
   ]
  },
  {
   "cell_type": "code",
   "execution_count": 41,
   "id": "e9e46a43",
   "metadata": {},
   "outputs": [
    {
     "data": {
      "text/plain": [
       "{'query': 'What is CompuCell?',\n",
       " 'result': ' CompuCell is a multi-model software framework for simulation of the development of multicellular organisms known as morphogenesis.',\n",
       " 'source_documents': [Document(page_content='IN 47405, USA\\nReceived on March 12, 2003; revised on August 5, 2003; accepted on August 29, 2003\\nAdvance Access publication February 5, 2004\\nABSTRACT\\nMotivation: Compu Cellis a multi-model software framework\\nfor simulation of the development of multicellular organisms\\nknown as morphogenesis. It models the interaction of the gene\\nregulatory network with generic cellular mechanisms, such as\\ncell adhesion, division, haptotaxis and chemotaxis. A combin-\\nation of a state automaton with stochastic local rules and a\\nset of differential equations, including subcellular ordinary dif-\\nferential equations and extracellular reaction–diffusion partial\\ndifferential equations, model gene regulation. This automaton\\nin turn controls the differentiation of the cells, and cell–\\ncell and cell–extracellular matrix interactions that give rise to\\ncell rearrangements and pattern formation, e.g. mesenchymal\\ncondensation. The cellular Potts model, a stochastic model', metadata={'page': 0, 'source': 'C:\\\\DS\\\\FA23 DATA SCIENCE IN PRACTICE\\\\James A. Glazier\\\\C_scp_ompu_scp_C_scp_ell_scp_a_multi_mod.pdf'}),\n",
       "  Document(page_content='gene regulation captures formal, qualitative aspects of regulat-\\nory interactions and allows ﬁtting to outcomes of quantitative\\nexperiments. Other approaches to modeling gene regulatory\\nnetworks are possible (e.g. Arkin et al. , 1998; Jong, 2002).\\n3 SOFTWARE\\nCompu Cell is an open-source object-oriented framework\\navailable in Source Forge (http://sourceforge.net/projects/\\ncompucell/). It has the following components: (i) base\\nclasses describing the main abstractions of morphogen-\\nesis, namely cells, chemical ﬁelds and spatial/temporal\\ndomains; (ii) energy functions and algorithms for the CPM\\nsimulation model; (iii) RD and diffusion solvers, includ-\\ning ﬁnite difference and ﬁnite element discretizations; (iv)\\ncell differentiation models, including an ODE solver and\\ncell type automata; (v) a cross-platform GUI based on the\\nFox toolkit (http://www.fox-toolkit.org/); (vi) an XML-based\\nfront-end (http://xml.apache.org/xerces-c/index.html); and', metadata={'page': 2, 'source': 'C:\\\\DS\\\\FA23 DATA SCIENCE IN PRACTICE\\\\James A. Glazier\\\\C_scp_ompu_scp_C_scp_ell_scp_a_multi_mod.pdf'})]}"
      ]
     },
     "execution_count": 41,
     "metadata": {},
     "output_type": "execute_result"
    }
   ],
   "source": [
    "query = \"What is CompuCell?\"\n",
    "llm_response = qa_chain(query)\n",
    "llm_response"
   ]
  },
  {
   "cell_type": "code",
   "execution_count": 42,
   "id": "f40cb88e",
   "metadata": {},
   "outputs": [
    {
     "name": "stdout",
     "output_type": "stream",
     "text": [
      "\n",
      "\n",
      "CompuCell is a multi-scale modeling software designed to simulate the behavior of cells in various biological systems. It uses a cellular automata approach to simulate complex behaviors of cells and their interactions with surrounding cells and the environment. CompuCell is used for research in areas such as cancer, wound healing, tissue engineering, and stem cells. It is an open source software and is available for free download.\n"
     ]
    }
   ],
   "source": [
    "# Regular LLM answer of OpenAI\n",
    "llm  = OpenAI(temperature=0.9)\n",
    "print(llm(query))"
   ]
  },
  {
   "cell_type": "code",
   "execution_count": null,
   "id": "3f249159",
   "metadata": {},
   "outputs": [],
   "source": []
  }
 ],
 "metadata": {
  "kernelspec": {
   "display_name": "ds",
   "language": "python",
   "name": "ds"
  },
  "language_info": {
   "codemirror_mode": {
    "name": "ipython",
    "version": 3
   },
   "file_extension": ".py",
   "mimetype": "text/x-python",
   "name": "python",
   "nbconvert_exporter": "python",
   "pygments_lexer": "ipython3",
   "version": "3.9.7"
  }
 },
 "nbformat": 4,
 "nbformat_minor": 5
}
